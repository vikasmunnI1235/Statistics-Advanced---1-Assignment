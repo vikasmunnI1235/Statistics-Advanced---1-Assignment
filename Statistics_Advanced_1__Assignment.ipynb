{
  "nbformat": 4,
  "nbformat_minor": 0,
  "metadata": {
    "colab": {
      "provenance": []
    },
    "kernelspec": {
      "name": "python3",
      "display_name": "Python 3"
    },
    "language_info": {
      "name": "python"
    }
  },
  "cells": [
    {
      "cell_type": "markdown",
      "source": [
        "Question 1: What is a random variable in probability theory?\n",
        "\n",
        "ANS random variable is a function that assigns numerical values to outcomes of a random experiment.\n",
        "Discrete: Countable values (e.g., dice roll).\n",
        "Continuous: Infinite values in a range (e.g., height, time)."
      ],
      "metadata": {
        "id": "db_SMW2UL3zZ"
      }
    },
    {
      "cell_type": "markdown",
      "source": [
        "Question 2: What are the types of random variables?\n",
        "\n",
        "ANS There are two main types of random variables:\n",
        "\n",
        "Discrete Random Variable – Takes countable values (e.g., number of heads in coin tosses, dice outcome).\n",
        "\n",
        "Continuous Random Variable – Takes uncountably infinite values in a range (e.g., height, weight, time)."
      ],
      "metadata": {
        "id": "Dik5SHgHMJEU"
      }
    },
    {
      "cell_type": "markdown",
      "source": [
        "Question 3: Explain the difference between discrete and continuous distributions.\n",
        "\n",
        "ANS\n",
        "| Feature          | Discrete Distribution                   | Continuous Distribution                                    |\n",
        "| ---------------- | --------------------------------------- | ---------------------------------------------------------- |\n",
        "| **Values**       | Countable (finite or infinite)          | Uncountably infinite (within an interval)                  |\n",
        "| **Examples**     | Binomial, Poisson                       | Normal, Exponential                                        |\n",
        "| **Probability**  | $P(X = x)$ is meaningful (exact values) | $ P(X = x) = 0$, only ranges matter ($P(a \\leq X \\leq b)$) |\n",
        "| **Illustration** | Dice rolls, number of students in class | Height, weight, time taken for a task                      |\n",
        "\n",
        "Discrete = specific countable outcomes, Continuous = any value in a range"
      ],
      "metadata": {
        "id": "7gOGIVDDMjVz"
      }
    },
    {
      "cell_type": "markdown",
      "source": [
        "Question 4: What is a binomial distribution, and how is it used in probability?\n",
        "\n",
        "ANS\n",
        "A binomial distribution is a discrete probability distribution that gives the probability of getting a certain number of successes in a fixed number of independent trials, each with the same success probability\n",
        "𝑝  \n",
        "RULE P(X=K)=(N/K)PK(1-P)N-K\n",
        "N= Nnumber of trials\n",
        "K= Nnumber of successes\n",
        "P= probability of success\n",
        "N/K= number of ways to choose\n",
        "𝑘\n",
        "k successes"
      ],
      "metadata": {
        "id": "GOH2oCoWNo4g"
      }
    },
    {
      "cell_type": "markdown",
      "source": [
        "Question 5: What is the standard normal distribution, and why is it important?\n",
        "\n",
        "ANS\n",
        "The standard normal distribution is a normal distribution with mean 0 and standard deviation 1, used for z-scores and probability calculations.\n",
        "It is the basis for many statistical methods (z-scores, hypothesis testing, confidence intervals).\n",
        "\n",
        "Any normal distribution can be converted to the standard normal using z-transformation:\n",
        "\n",
        "𝑍\n",
        "=\n",
        "𝑋\n",
        "−\n",
        "𝜇\n",
        "𝜎\n",
        "Z=\n",
        "σ\n",
        "X−μ\n",
        "\t​\n",
        "\n",
        "\n",
        "Widely used because it simplifies probability calculations (tables & software use it)."
      ],
      "metadata": {
        "id": "S2T6L90OPPfx"
      }
    },
    {
      "cell_type": "markdown",
      "source": [
        "Question 6: What is the Central Limit Theorem (CLT), and why is it critical in statistics?\n",
        "\n",
        "ANS The Central Limit Theorem (CLT) says that for large samples, the distribution of sample means becomes approximately normal, no matter the population’s shape."
      ],
      "metadata": {
        "id": "NS63Hb1KPwNQ"
      }
    },
    {
      "cell_type": "markdown",
      "source": [
        "Question 7: What is the significance of confidence intervals in statistical analysis?\n",
        "\n",
        "ANS A confidence interval (CI) gives a range of values within which the true population parameter (like mean or proportion) is likely to fall, with a certain level of confidence (e.g., 95%).\n",
        "\n",
        "Significance:\n",
        "\n",
        "Shows the uncertainty in sample estimates.\n",
        "\n",
        "Gives both an estimate and its precision (narrower CI = more precise).\n",
        "\n",
        "Used in decision-making and hypothesis testing."
      ],
      "metadata": {
        "id": "Xfv5NmJHQLTA"
      }
    },
    {
      "cell_type": "markdown",
      "source": [
        "Question 8: What is the concept of expected value in a probability distribution\n",
        "\n",
        "ANS The expected value (EV) of a random variable is the long-run average outcome you would expect if an experiment were repeated many times.\n",
        "\n",
        "Formula:\n",
        "\n",
        "For discrete random variable:\n",
        "\n",
        "𝐸\n",
        "(\n",
        "𝑋\n",
        ")\n",
        "=\n",
        "∑\n",
        "𝑥\n",
        "⋅\n",
        "𝑃\n",
        "(\n",
        "𝑥\n",
        ")\n",
        "E(X)=∑x⋅P(x)\n",
        "\n",
        "For continuous random variable:\n",
        "\n",
        "𝐸\n",
        "(\n",
        "𝑋\n",
        ")\n",
        "=\n",
        "∫\n",
        "−\n",
        "∞\n",
        "∞\n",
        "𝑥\n",
        "⋅\n",
        "𝑓\n",
        "(\n",
        "𝑥\n",
        ")\n",
        "\n",
        "𝑑\n",
        "𝑥\n",
        "E(X)=∫\n",
        "−∞\n",
        "∞\n",
        "\t​\n",
        "\n",
        "x⋅f(x)dx\n",
        "Example:\n",
        "\n",
        "Rolling a fair die →\n",
        "\n",
        "𝐸\n",
        "(\n",
        "𝑋\n",
        ")\n",
        "=\n",
        "1\n",
        "+\n",
        "2\n",
        "+\n",
        "3\n",
        "+\n",
        "4\n",
        "+\n",
        "5\n",
        "+\n",
        "6\n",
        "6\n",
        "=\n",
        "3.5\n",
        "E(X)=\n",
        "6\n",
        "1+2+3+4+5+6\n",
        "\t​\n",
        "\n",
        "=3.5\n",
        "\n",
        "The expected value is the average outcome of a probability distribution, found by multiplying each outcome by its probability and summing them up."
      ],
      "metadata": {
        "id": "AStanlwQQasl"
      }
    },
    {
      "cell_type": "markdown",
      "source": [
        "Question 9: Write a Python program to generate 1000 random numbers from a normal\n",
        "distribution with mean = 50 and standard deviation = 5. Compute its mean and standard\n",
        "deviation using NumPy, and draw a histogram to visualize the distribution.\n",
        "(Include your Python code and output in the code box below.)\n"
      ],
      "metadata": {
        "id": "16Sxcax1Qw-0"
      }
    },
    {
      "cell_type": "code",
      "source": [
        "import numpy as np\n",
        "import matplotlib.pyplot as plt\n",
        "\n",
        "# Generate 1000 random numbers from Normal Distribution (mean=50, std=5)\n",
        "data = np.random.normal(loc=50, scale=5, size=1000)\n",
        "\n",
        "# Compute mean and standard deviation\n",
        "mean = np.mean(data)\n",
        "std_dev = np.std(data)\n",
        "\n",
        "print(\"Mean:\", mean)\n",
        "print(\"Standard Deviation:\", std_dev)\n",
        "\n",
        "# Plot histogram\n",
        "plt.hist(data, bins=30, edgecolor='black', alpha=0.7)\n",
        "plt.title(\"Histogram of Normal Distribution (mean=50, std=5)\")\n",
        "plt.xlabel(\"Value\")\n",
        "plt.ylabel(\"Frequency\")\n",
        "plt.show()\n"
      ],
      "metadata": {
        "colab": {
          "base_uri": "https://localhost:8080/",
          "height": 509
        },
        "id": "YFAqQXeVQyBf",
        "outputId": "f3b9c0f8-aac9-4473-e86a-8e089e901883"
      },
      "execution_count": 1,
      "outputs": [
        {
          "output_type": "stream",
          "name": "stdout",
          "text": [
            "Mean: 49.84585628314498\n",
            "Standard Deviation: 5.15676673379583\n"
          ]
        },
        {
          "output_type": "display_data",
          "data": {
            "text/plain": [
              "<Figure size 640x480 with 1 Axes>"
            ],
            "image/png": "[encoded data removed]"
          },
          "metadata": {}
        }
      ]
    },
    {
      "cell_type": "code",
      "source": [],
      "metadata": {
        "id": "Bx29q8moRGGS"
      },
      "execution_count": null,
      "outputs": []
    },
    {
      "cell_type": "markdown",
      "source": [
        "Question 10: You are working as a data analyst for a retail company. The company has\n",
        "collected daily sales data for 2 years and wants you to identify the overall sales trend.\n",
        "daily_sales = [220, 245, 210, 265, 230, 250, 260, 275, 240, 255,\n",
        "235, 260, 245, 250, 225, 270, 265, 255, 250, 260]\n",
        "● Explain how you would apply the Central Limit Theorem to estimate the average sales\n",
        "with a 95% confidence interval.\n",
        "● Write the Python code to compute the mean sales and its confidence interval.\n",
        "(Include your Python code and output in the code box below.)\n",
        "\n",
        "ANS CI=\n",
        "x\n",
        "ˉ\n",
        "±t×\n",
        "n\n",
        "\t​\n",
        "\n",
        "s\n",
        "\t​\n",
        "\n",
        "\n",
        "where\n",
        "\n",
        "𝑥\n",
        "ˉ\n",
        "x\n",
        "ˉ\n",
        " = sample mean\n",
        "\n",
        "𝑠\n",
        "s = sample standard deviation\n",
        "\n",
        "𝑛\n",
        "n = sample size\n",
        "\n",
        "𝑡\n",
        "t = t-critical value for 95% confidence and\n",
        "𝑛\n",
        "−\n",
        "1\n",
        "n−1 degrees of freedom"
      ],
      "metadata": {
        "id": "VSswCSu5RDah"
      }
    },
    {
      "cell_type": "code",
      "source": [
        "import numpy as np\n",
        "import scipy.stats as stats\n",
        "\n",
        "# Daily sales data\n",
        "daily_sales = [220, 245, 210, 265, 230, 250, 260, 275, 240, 255,\n",
        "               235, 260, 245, 250, 225, 270, 265, 255, 250, 260]\n",
        "\n",
        "# Convert to numpy array\n",
        "data = np.array(daily_sales)\n",
        "\n",
        "# Sample statistics\n",
        "mean = np.mean(data)\n",
        "std_dev = np.std(data, ddof=1)  # sample standard deviation\n",
        "n = len(data)\n",
        "\n",
        "# t-critical value for 95% CI\n",
        "t_critical = stats.t.ppf(0.975, df=n-1)\n",
        "\n",
        "# Margin of error\n",
        "margin_of_error = t_critical * (std_dev / np.sqrt(n))\n",
        "\n",
        "# Confidence interval\n",
        "ci_lower = mean - margin_of_error\n",
        "ci_upper = mean + margin_of_error\n",
        "\n",
        "print(\"Mean Sales:\", mean)\n",
        "print(\"95% Confidence Interval: (\", ci_lower, \",\", ci_upper, \")\")\n"
      ],
      "metadata": {
        "colab": {
          "base_uri": "https://localhost:8080/"
        },
        "id": "ZN8C3W32RIdb",
        "outputId": "51bec34b-9c01-4536-fbd7-4272c6852121"
      },
      "execution_count": 2,
      "outputs": [
        {
          "output_type": "stream",
          "name": "stdout",
          "text": [
            "Mean Sales: 248.25\n",
            "95% Confidence Interval: ( 240.16957025147158 , 256.3304297485284 )\n"
          ]
        }
      ]
    }
  ]
}